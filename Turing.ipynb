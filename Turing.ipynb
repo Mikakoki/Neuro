{
    "cells": [
        {
            "cell_type": "code",
            "execution_count": null,
            "metadata": {},
            "outputs": [],
            "source": [
                "using Pkg\n",
                "\n",
                "# Activate the current project\n",
                "Pkg.activate(\"\")\n",
                "\n",
                "# Add necessary packages\n",
                "Pkg.add(\"Distributions\")\n",
                "Pkg.add(\"Turing\")\n",
                "Pkg.add(\"StatsPlots\")\n",
                "\n",
                "# Example code to check installations\n",
                "using Distributions, Turing, StatsPlots\n",
                "println(\"Packages loaded successfully!\")\n"
            ]
        }
    ],
    "metadata": {
        "kernelspec": {
            "display_name": "Julia 1.x",
            "language": "julia",
            "name": "julia-1.x"
        },
        "language_info": {
            "codemirror_mode": {
                "name": "ipython",
                "version": 3
            },
            "file_extension": ".jl",
            "mimetype": "text/x-julia",
            "name": "julia",
            "nbconvert_exporter": "python",
            "pygments_lexer": "ipython3",
            "version": "1.6.0"  # or your preferred version
        }
    },
    "nbformat": 4,
    "nbformat_minor": 4
}
